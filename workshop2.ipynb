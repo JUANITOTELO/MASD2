{
 "cells": [
  {
   "cell_type": "markdown",
   "metadata": {},
   "source": [
    "## Workshop #2"
   ]
  },
  {
   "cell_type": "markdown",
   "metadata": {},
   "source": [
    "## Juan David Martinez"
   ]
  },
  {
   "cell_type": "markdown",
   "metadata": {},
   "source": [
    "# Numerical solution of the transport equation"
   ]
  },
  {
   "cell_type": "markdown",
   "metadata": {},
   "source": [
    "# Task 1: \n",
    "Find the exact analytical solution of the initial value problem."
   ]
  },
  {
   "cell_type": "markdown",
   "metadata": {},
   "source": [
    "$$\n",
    "\\begin{aligned}\n",
    "u_t+cu_x &= 0\\\\\n",
    "\\text{ with }\\\\\n",
    "0<x<L \\text{ \\& } &0<t<T\n",
    "\\end{aligned}\n",
    "$$"
   ]
  },
  {
   "cell_type": "markdown",
   "metadata": {},
   "source": [
    "Lets make a change of variables\n",
    "\n",
    "$$\n",
    "\\begin{array}{cc}\n",
    "\\tilde{x}=t+cx & \\tilde{t}=ct-x \\\\\n",
    "\\tilde{x}_t=1 & \\tilde{t}_t=c \\\\\n",
    "\\tilde{x}_x=c & \\tilde{t}_x=-1 \\\\\n",
    "\\end{array}\n",
    "$$\n",
    "\n",
    "Now we can use the chain rule\n",
    "\n",
    "$$\n",
    "\\begin{array}{cc}\n",
    "\\tilde{u}_x=cu_{\\tilde{x}}-u_{\\tilde{t}} & \\tilde{u}_t=-u_{\\tilde{x}}+cu_{\\tilde{t}} \\\\\n",
    "\\end{array}\n",
    "$$\n",
    "\n",
    "Then,\n",
    "\n",
    "$$\n",
    "\\begin{aligned}\n",
    "u_t+cu_x&=-u_{\\tilde{x}}+cu_{\\tilde{t}}+c(cu_{\\tilde{x}}-u_{\\tilde{t}})\\\\\n",
    "        &=-u_{\\tilde{x}}+cu_{\\tilde{t}}+c^2u_{\\tilde{x}}-cu_{\\tilde{t}}\\\\\n",
    "        &=c^2u_{\\tilde{x}}-u_{\\tilde{x}}\\\\\n",
    "        &=(c^2-1)u_{\\tilde{x}}=0\\\\\n",
    "        &\\Longrightarrow u_{\\tilde{x}}=0\n",
    "\\end{aligned}\n",
    "$$\n",
    "\n",
    "Therefore, $\\bm{u=f(\\tilde{t})=f(ct-x)}$"
   ]
  },
  {
   "cell_type": "markdown",
   "metadata": {},
   "source": [
    "$$\n",
    "\\frac{\\partial u}{\\partial t}(t_{j},x_{m})=\\frac{u_{j+1,m}-\\ u_{j,m}}{\\Delta t},\n",
    "$$\n",
    "$$\n",
    "{\\frac{\\partial u}{\\partial x}}(t_{j},x_{m})={\\frac{u_{j,m+1}-u_{j,m}}{\\Delta x}}.\n",
    "$$\n",
    "\n",
    "# Task 2: \n",
    "Verify that you indeed get this equation $u_{j+1,m}=-\\sigma u_{j,m+1}+(\\sigma+1)u_{j,m}$      with     $\\sigma=c\\Delta t/\\Delta x.$\n",
    "\n",
    "$$\n",
    "\\begin{aligned}\n",
    "0 =u_t+cu_x &= \\frac{u_{j+1,m}- u_{j,m}}{\\Delta t}-c\\left({\\frac{u_{j,m+1}-u_{j,m}}{\\Delta x}}\\right)\\\\\n",
    "        0 &= u_{j+1,m}- u_{j,m}-\\frac{c\\Delta t}{\\Delta x}(u_{j,m+1}-u_{j,m})\\\\\n",
    "        u_{j+1,m} &=  u_{j,m}+\\frac{c\\Delta t}{\\Delta x}(u_{j,m+1}-u_{j,m})\\\\\n",
    "                  &= u_{j,m}+\\frac{c\\Delta t}{\\Delta x}u_{j,m+1}-\\frac{c\\Delta t}{\\Delta x}u_{j,m}\\\\\n",
    "                  &= (1-\\frac{c\\Delta t}{\\Delta x})u_{j,m}+\\frac{c\\Delta t}{\\Delta x}u_{j,m+1}\\\\\n",
    "                  &= (1-\\sigma )u_{j,m}+\\sigma u_{j,m+1}\n",
    "\\end{aligned}\n",
    "$$"
   ]
  },
  {
   "cell_type": "markdown",
   "metadata": {},
   "source": [
    "# Numerical method (One-sided method)"
   ]
  },
  {
   "cell_type": "markdown",
   "metadata": {},
   "source": [
    "# Task 3:\n",
    "\n",
    "## c = -1.5\n",
    "\n",
    "![alt text](videos/func1/One_SideMethodAnimation_negative(1.5).gif)\n",
    "\n",
    "## c = -1\n",
    "\n",
    "![alt text](videos/func1/One_SideMethodAnimation_negative(1).gif)\n",
    "\n",
    "## c = -0.5\n",
    "\n",
    "![alt text](videos/func1/One_SideMethodAnimation_negative(0.5).gif)\n",
    "\n",
    "## c = 0\n",
    "\n",
    "![alt text](videos/func1/One_SideMethodAnimation0.gif)\n",
    "\n",
    "## c = 0.5\n",
    "\n",
    "![alt text](videos/func1/One_SideMethodAnimation0.5.gif)\n",
    "\n",
    "## c = 1\n",
    "\n",
    "![alt text](videos/func1/One_SideMethodAnimation1.gif)\n",
    "\n",
    "## c = 1.5\n",
    "\n",
    "![alt text](videos/func1/One_SideMethodAnimation1.5.gif)"
   ]
  },
  {
   "cell_type": "code",
   "execution_count": 2,
   "metadata": {},
   "outputs": [],
   "source": [
    "import numpy as np\n",
    "import matplotlib.pyplot as plt\n",
    "import matplotlib.animation as animation\n",
    "from IPython.display import display, HTML"
   ]
  },
  {
   "cell_type": "code",
   "execution_count": null,
   "metadata": {},
   "outputs": [],
   "source": [
    "# Numerical solution of the advection equation with the One-Side Method\n",
    "\n",
    "def getAnimationOneSide(c):\n",
    "    # Parameters\n",
    "    L = 1.0  # Length of the domain\n",
    "    dx = 0.005  # Grid spacing\n",
    "    dt = 0.005  # Time step\n",
    "    X = np.arange(0, L+dx, dx)  # Grid points\n",
    "    f0 = 0.4*np.exp(-300*(X-0.5)**2)+0.1*np.exp(-300*(X-0.65)**2)  # Initial condition\n",
    "\n",
    "    # Set up the figure for animation\n",
    "    fig = plt.figure()\n",
    "    ax = plt.axes(xlim=(0, L), ylim=(-1, 1))\n",
    "    line, = ax.plot([], [], lw=2)\n",
    "    plt.rcParams['text.usetex'] = True\n",
    "    fig.suptitle(r'One-Side Method for the Advection Equation, $c = $'+str(c), fontsize=16)\n",
    "    plt.title(r'$f(x,0) = 0.4e^{-300(x-0.5)^2}+0.1e^{-300(x-0.65)^2}$', fontsize=12)\n",
    "\n",
    "\n",
    "    def init():\n",
    "        line.set_data([], [])\n",
    "        return line,\n",
    "\n",
    "    def animate(i):\n",
    "        nonlocal f0\n",
    "\n",
    "        # Update f using the One-Side Method\n",
    "        f = np.empty(len(f0))\n",
    "        sig = c*dt/dx\n",
    "        for j in range(1, len(f0)-1):\n",
    "            f[j] = -sig*(f0[j+1])+f0[j]*(1+sig)\n",
    "        f[0] = -sig*(f0[1])+f0[0]*(1+sig)\n",
    "        f[-1] = -sig*(f0[0])+f0[-1]*(1+sig)\n",
    "\n",
    "        f0 = f\n",
    "\n",
    "        # Update the plot\n",
    "        line.set_data(X, f)\n",
    "        line.set_label(f't = {i*dt:.2f}')\n",
    "        ax.legend()\n",
    "        \n",
    "        return line,\n",
    "\n",
    "    anim = animation.FuncAnimation(fig, animate, init_func=init,\n",
    "                                    frames=240, blit=True)\n",
    "    if c>=0:\n",
    "        anim.save(f'videos/func1/One_SideMethodAnimation{c}.gif', fps=30)\n",
    "    else:\n",
    "        anim.save(f'videos/func1/One_SideMethodAnimation_negative({abs(c)}).gif', fps=30)\n",
    "    plt.close()\n",
    "    "
   ]
  },
  {
   "cell_type": "code",
   "execution_count": null,
   "metadata": {},
   "outputs": [],
   "source": [
    "cs = [-1.5,-1,-0.5,0,0.5,1,1.5]\n",
    "for c in cs:\n",
    "    print(f\"Creating animation for c = {c}\")\n",
    "    getAnimationOneSide(c)"
   ]
  },
  {
   "cell_type": "markdown",
   "metadata": {},
   "source": [
    "# Numerical method (Lax-Wendroff method)"
   ]
  },
  {
   "cell_type": "markdown",
   "metadata": {},
   "source": [
    "# Task 4:\n",
    "\n",
    "Repeat task 3 using the Lax-Wendorff method instead and compare the numerical simulations with the analytical solution. Conclude.\n",
    "\n",
    "## c = -1.5\n",
    "\n",
    "![alt text](videos/func1/Lax_WendroffMethodAnimation_negative(1.5).gif)\n",
    "\n",
    "## c = -1\n",
    "\n",
    "![alt text](videos/func1/Lax_WendroffMethodAnimation_negative(1).gif)\n",
    "\n",
    "## c = -0.5\n",
    "\n",
    "![alt text](videos/func1/Lax_WendroffMethodAnimation_negative(0.5).gif)\n",
    "\n",
    "## c = 0\n",
    "\n",
    "![alt text](videos/func1/Lax_WendroffMethodAnimation0.gif)\n",
    "\n",
    "## c = 0.5\n",
    "\n",
    "![alt text](videos/func1/Lax_WendroffMethodAnimation0.5.gif)\n",
    "\n",
    "## c = 1\n",
    "\n",
    "![alt text](videos/func1/Lax_WendroffMethodAnimation1.gif)\n",
    "\n",
    "## c = 1.5\n",
    "\n",
    "![alt text](videos/func1/Lax_WendroffMethodAnimation1.5.gif)"
   ]
  },
  {
   "cell_type": "markdown",
   "metadata": {},
   "source": [
    "For the values $c=-1.5$ and $c=1.5$, the numerical solution is not stable. For the rest of the values, the numerical solution is stable and it is very close to the analytical solution. The Lax-Wendroff method is more accurate than the one-sided method."
   ]
  },
  {
   "cell_type": "code",
   "execution_count": null,
   "metadata": {},
   "outputs": [],
   "source": [
    "# Numerical solution of the advection equation with the Lax-Wendroff Method\n",
    "\n",
    "def getAnimationLaxWendroff(c):\n",
    "    # Parameters\n",
    "    L = 1.0  # Length of the domain\n",
    "    dx = 0.005  # Grid spacing\n",
    "    dt = 0.005  # Time step\n",
    "    X = np.arange(0, L+dx, dx)  # Grid points\n",
    "    f0 = 0.4*np.exp(-300*(X-0.5)**2)+0.1*np.exp(-300*(X-0.65)**2)  # Initial condition\n",
    "    \n",
    "    # Set up the figure for animation\n",
    "    fig = plt.figure()\n",
    "    ax = plt.axes(xlim=(0, L), ylim=(-1, 1))\n",
    "    line, = ax.plot([], [], lw=2)\n",
    "    plt.rcParams['text.usetex'] = True\n",
    "    fig.suptitle(f'Lax-Wendroff Method, c = {c}')\n",
    "    plt.title(r'$f(x,0) = 0.4e^{-300(x-0.5)^2}+0.1e^{-300(x-0.65)^2}$', fontsize=12)\n",
    "\n",
    "    def init():\n",
    "        line.set_data([], [])\n",
    "        return line,\n",
    "\n",
    "    def animate(i):\n",
    "        nonlocal f0\n",
    "        # Update f using the Lax-Wendroff Method\n",
    "        f = np.empty(len(f0))\n",
    "        sig = c*dt/dx\n",
    "        for j in range(1, len(f0)-1):\n",
    "            f[j] = f0[j] - 0.5*sig*(f0[j+1]-f0[j-1]) + 0.5*sig**2*(f0[j+1]-2*f0[j]+f0[j-1])\n",
    "        f[0] = f0[0] - 0.5*sig*(f0[1]-f0[-1]) + 0.5*sig**2*(f0[1]-2*f0[0]+f0[-1])\n",
    "        f[-1] = f0[-1] - 0.5*sig*(f0[0]-f0[-2]) + 0.5*sig**2*(f0[0]-2*f0[-1]+f0[-2])\n",
    "\n",
    "        f0 = f\n",
    "\n",
    "        # Update the plot\n",
    "        line.set_data(X, f)\n",
    "        line.set_label(f't = {i*dt:.2f}')\n",
    "        ax.legend()\n",
    "\n",
    "        return line,\n",
    "\n",
    "    anim = animation.FuncAnimation(fig, animate, init_func=init,\n",
    "                                        frames=240, blit=True)\n",
    "    if c>=0:\n",
    "        anim.save(f'videos/func1/Lax_WendroffMethodAnimation{c}.gif', fps=30)\n",
    "    else:\n",
    "        anim.save(f'videos/func1/Lax_WendroffMethodAnimation_negative({abs(c)}).gif', fps=30)\n",
    "    plt.close()\n"
   ]
  },
  {
   "cell_type": "code",
   "execution_count": null,
   "metadata": {},
   "outputs": [],
   "source": [
    "cs = [-1.5,-1,-0.5,0,0.5,1,1.5]\n",
    "for c in cs:\n",
    "    print(f\"Creating animation for c = {c}\")\n",
    "    getAnimationLaxWendroff(c)"
   ]
  },
  {
   "cell_type": "markdown",
   "metadata": {},
   "source": [
    "# Task 5:"
   ]
  },
  {
   "cell_type": "code",
   "execution_count": null,
   "metadata": {},
   "outputs": [],
   "source": [
    "# Numerical solution of the advection equation with the One-Side Method\n",
    "\n",
    "def getAnimationOneSide(c):\n",
    "    # Parameters\n",
    "    L = 1.0  # Length of the domain\n",
    "    dx = 0.005  # Grid spacing\n",
    "    dt = 0.005  # Time step\n",
    "    X = np.arange(0, L+dx, dx)  # Grid points\n",
    "    def f(x):\n",
    "        if abs(x-0.7) < 0.1:\n",
    "            return 1-abs(x-0.7)/0.1\n",
    "        return 0\n",
    "    f0 = np.array([f(x) for x in X])  # Initial condition\n",
    "\n",
    "    # Set up the figure for animation\n",
    "    fig = plt.figure()\n",
    "    ax = plt.axes(xlim=(0, L), ylim=(-1, 1))\n",
    "    line, = ax.plot([], [], lw=2)\n",
    "    plt.rcParams['text.usetex'] = True\n",
    "    fig.suptitle(r'One-Side Method for the Advection Equation, $c = $'+str(c), fontsize=16)\n",
    "    plt.title(r'$f(x,0) = 1-|x-0.7|/0.1$', fontsize=12)\n",
    "\n",
    "\n",
    "    def init():\n",
    "        line.set_data([], [])\n",
    "        return line,\n",
    "\n",
    "    def animate(i):\n",
    "        nonlocal f0\n",
    "\n",
    "        # Update f using the One-Side Method\n",
    "        f = np.empty(len(f0))\n",
    "        sig = c*dt/dx\n",
    "        for j in range(1, len(f0)-1):\n",
    "            f[j] = -sig*(f0[j+1])+f0[j]*(1+sig)\n",
    "        f[0] = -sig*(f0[1])+f0[0]*(1+sig)\n",
    "        f[-1] = -sig*(f0[0])+f0[-1]*(1+sig)\n",
    "\n",
    "        f0 = f\n",
    "\n",
    "        # Update the plot\n",
    "        line.set_data(X, f)\n",
    "        line.set_label(f't = {i*dt:.2f}')\n",
    "        ax.legend()\n",
    "        \n",
    "        return line,\n",
    "\n",
    "    anim = animation.FuncAnimation(fig, animate, init_func=init,\n",
    "                                    frames=240, blit=True)\n",
    "    if c>=0:\n",
    "        anim.save(f'videos/func2/One_SideMethodAnimation{c}.gif', fps=30)\n",
    "    else:\n",
    "        anim.save(f'videos/func2/One_SideMethodAnimation_negative({abs(c)}).gif', fps=30)\n",
    "    plt.close()\n",
    "    "
   ]
  },
  {
   "cell_type": "code",
   "execution_count": null,
   "metadata": {},
   "outputs": [],
   "source": [
    "cs = [-1.5,-1,-0.5,0,0.5,1,1.5]\n",
    "for c in cs:\n",
    "    print(f\"Creating animation for c = {c}\")\n",
    "    getAnimationOneSide(c)"
   ]
  },
  {
   "cell_type": "code",
   "execution_count": null,
   "metadata": {},
   "outputs": [],
   "source": [
    "# Numerical solution of the advection equation with the Lax-Wendroff Method\n",
    "\n",
    "def getAnimationLaxWendroff(c):\n",
    "    # Parameters\n",
    "    L = 1.0  # Length of the domain\n",
    "    dx = 0.005  # Grid spacing\n",
    "    dt = 0.005  # Time step\n",
    "    X = np.arange(0, L+dx, dx)  # Grid points\n",
    "    def f(x):\n",
    "        if abs(x-0.7) < 0.1:\n",
    "            return 1-abs(x-0.7)/0.1\n",
    "        return 0\n",
    "    f0 = np.array([f(x) for x in X])  # Initial condition\n",
    "    # Set up the figure for animation\n",
    "    fig = plt.figure()\n",
    "    ax = plt.axes(xlim=(0, L), ylim=(-1, 1))\n",
    "    line, = ax.plot([], [], lw=2)\n",
    "    plt.rcParams['text.usetex'] = True\n",
    "    fig.suptitle(f'Lax-Wendroff Method, c = {c}')\n",
    "    plt.title(r'$f(x,0) = 1-|x-0.7|/0.1$', fontsize=12)\n",
    "\n",
    "    def init():\n",
    "        line.set_data([], [])\n",
    "        return line,\n",
    "\n",
    "    def animate(i):\n",
    "        nonlocal f0\n",
    "        # Update f using the Lax-Wendroff Method\n",
    "        f = np.empty(len(f0))\n",
    "        sig = c*dt/dx\n",
    "        for j in range(1, len(f0)-1):\n",
    "            f[j] = f0[j] - 0.5*sig*(f0[j+1]-f0[j-1]) + 0.5*sig**2*(f0[j+1]-2*f0[j]+f0[j-1])\n",
    "        f[0] = f0[0] - 0.5*sig*(f0[1]-f0[-1]) + 0.5*sig**2*(f0[1]-2*f0[0]+f0[-1])\n",
    "        f[-1] = f0[-1] - 0.5*sig*(f0[0]-f0[-2]) + 0.5*sig**2*(f0[0]-2*f0[-1]+f0[-2])\n",
    "\n",
    "        f0 = f\n",
    "\n",
    "        # Update the plot\n",
    "        line.set_data(X, f)\n",
    "        line.set_label(f't = {i*dt:.2f}')\n",
    "        ax.legend()\n",
    "\n",
    "        return line,\n",
    "\n",
    "    anim = animation.FuncAnimation(fig, animate, init_func=init,\n",
    "                                        frames=240, blit=True)\n",
    "    if c>=0:\n",
    "        anim.save(f'videos/func2/Lax_WendroffMethodAnimation{c}.gif', fps=30)\n",
    "    else:\n",
    "        anim.save(f'videos/func2/Lax_WendroffMethodAnimation_negative({abs(c)}).gif', fps=30)\n",
    "    plt.close()\n"
   ]
  },
  {
   "cell_type": "code",
   "execution_count": null,
   "metadata": {},
   "outputs": [],
   "source": [
    "cs = [-1.5,-1,-0.5,0,0.5,1,1.5]\n",
    "for c in cs:\n",
    "    print(f\"Creating animation for c = {c}\")\n",
    "    getAnimationLaxWendroff(c)"
   ]
  },
  {
   "cell_type": "code",
   "execution_count": 6,
   "metadata": {},
   "outputs": [
    {
     "data": {
      "text/html": [
       "<h1>Function 2</h1>"
      ],
      "text/plain": [
       "<IPython.core.display.HTML object>"
      ]
     },
     "metadata": {},
     "output_type": "display_data"
    },
    {
     "data": {
      "text/html": [
       "<h2>c = -1.5</h2>"
      ],
      "text/plain": [
       "<IPython.core.display.HTML object>"
      ]
     },
     "metadata": {},
     "output_type": "display_data"
    },
    {
     "data": {
      "text/html": [
       "<table><tr><td><img src=\"videos/func2/One_SideMethodAnimation_negative(1.5).gif\"></td><td><img src=\"videos/func2/Lax_WendroffMethodAnimation_negative(1.5).gif\"></td></tr></table>"
      ],
      "text/plain": [
       "<IPython.core.display.HTML object>"
      ]
     },
     "metadata": {},
     "output_type": "display_data"
    },
    {
     "data": {
      "text/html": [
       "<h2>c = -1</h2>"
      ],
      "text/plain": [
       "<IPython.core.display.HTML object>"
      ]
     },
     "metadata": {},
     "output_type": "display_data"
    },
    {
     "data": {
      "text/html": [
       "<table><tr><td><img src=\"videos/func2/One_SideMethodAnimation_negative(1).gif\"></td><td><img src=\"videos/func2/Lax_WendroffMethodAnimation_negative(1).gif\"></td></tr></table>"
      ],
      "text/plain": [
       "<IPython.core.display.HTML object>"
      ]
     },
     "metadata": {},
     "output_type": "display_data"
    },
    {
     "data": {
      "text/html": [
       "<h2>c = -0.5</h2>"
      ],
      "text/plain": [
       "<IPython.core.display.HTML object>"
      ]
     },
     "metadata": {},
     "output_type": "display_data"
    },
    {
     "data": {
      "text/html": [
       "<table><tr><td><img src=\"videos/func2/One_SideMethodAnimation_negative(0.5).gif\"></td><td><img src=\"videos/func2/Lax_WendroffMethodAnimation_negative(0.5).gif\"></td></tr></table>"
      ],
      "text/plain": [
       "<IPython.core.display.HTML object>"
      ]
     },
     "metadata": {},
     "output_type": "display_data"
    },
    {
     "data": {
      "text/html": [
       "<h2>c = 0</h2>"
      ],
      "text/plain": [
       "<IPython.core.display.HTML object>"
      ]
     },
     "metadata": {},
     "output_type": "display_data"
    },
    {
     "data": {
      "text/html": [
       "<table><tr><td><img src=\"videos/func2/One_SideMethodAnimation0.gif\"></td><td><img src=\"videos/func2/Lax_WendroffMethodAnimation0.gif\"></td></tr></table>"
      ],
      "text/plain": [
       "<IPython.core.display.HTML object>"
      ]
     },
     "metadata": {},
     "output_type": "display_data"
    },
    {
     "data": {
      "text/html": [
       "<h2>c = 0.5</h2>"
      ],
      "text/plain": [
       "<IPython.core.display.HTML object>"
      ]
     },
     "metadata": {},
     "output_type": "display_data"
    },
    {
     "data": {
      "text/html": [
       "<table><tr><td><img src=\"videos/func2/One_SideMethodAnimation0.5.gif\"></td><td><img src=\"videos/func2/Lax_WendroffMethodAnimation0.5.gif\"></td></tr></table>"
      ],
      "text/plain": [
       "<IPython.core.display.HTML object>"
      ]
     },
     "metadata": {},
     "output_type": "display_data"
    },
    {
     "data": {
      "text/html": [
       "<h2>c = 1</h2>"
      ],
      "text/plain": [
       "<IPython.core.display.HTML object>"
      ]
     },
     "metadata": {},
     "output_type": "display_data"
    },
    {
     "data": {
      "text/html": [
       "<table><tr><td><img src=\"videos/func2/One_SideMethodAnimation1.gif\"></td><td><img src=\"videos/func2/Lax_WendroffMethodAnimation1.gif\"></td></tr></table>"
      ],
      "text/plain": [
       "<IPython.core.display.HTML object>"
      ]
     },
     "metadata": {},
     "output_type": "display_data"
    },
    {
     "data": {
      "text/html": [
       "<h2>c = 1.5</h2>"
      ],
      "text/plain": [
       "<IPython.core.display.HTML object>"
      ]
     },
     "metadata": {},
     "output_type": "display_data"
    },
    {
     "data": {
      "text/html": [
       "<table><tr><td><img src=\"videos/func2/One_SideMethodAnimation1.5.gif\"></td><td><img src=\"videos/func2/Lax_WendroffMethodAnimation1.5.gif\"></td></tr></table>"
      ],
      "text/plain": [
       "<IPython.core.display.HTML object>"
      ]
     },
     "metadata": {},
     "output_type": "display_data"
    }
   ],
   "source": [
    "# show the animations of function 2\n",
    "\n",
    "display(HTML('<h1>Function 2</h1>'))\n",
    "for c in cs:\n",
    "    if c >= 0:\n",
    "        display(HTML(f'<h2>c = {c}</h2>'))\n",
    "        html_col1 = f'<img src=\"videos/func2/One_SideMethodAnimation{c}.gif\">'\n",
    "        html_col2 = f'<img src=\"videos/func2/Lax_WendroffMethodAnimation{c}.gif\">'\n",
    "        html_table = f'<table><tr><td>{html_col1}</td><td>{html_col2}</td></tr></table>'\n",
    "        display(HTML(html_table))\n",
    "    else:\n",
    "        display(HTML(f'<h2>c = {c}</h2>'))\n",
    "        html_col1 = f'<img src=\"videos/func2/One_SideMethodAnimation_negative({abs(c)}).gif\">'\n",
    "        html_col2 = f'<img src=\"videos/func2/Lax_WendroffMethodAnimation_negative({abs(c)}).gif\">'\n",
    "        html_table = f'<table><tr><td>{html_col1}</td><td>{html_col2}</td></tr></table>'\n",
    "        display(HTML(html_table))"
   ]
  },
  {
   "cell_type": "markdown",
   "metadata": {},
   "source": [
    "As we can see, both methods break for $c=-1.5$ and $c=1.5$.\n",
    "\n",
    "Also, for the value of $c=-0.5$, the numerical solution is stable but it is not very accurate, as we can see in the graphs, the hight of the wave is not the same as the analytical solution.\n",
    "\n",
    "On $c=1$ the Lax-Wendroff method is more accurate than the one-sided method and is stable comapre to the one-sided method. But weirdly, for $c=-1$, both methods are stable and the numerical solution is very close to the analytical solution."
   ]
  }
 ],
 "metadata": {
  "kernelspec": {
   "display_name": "Python 3",
   "language": "python",
   "name": "python3"
  },
  "language_info": {
   "codemirror_mode": {
    "name": "ipython",
    "version": 3
   },
   "file_extension": ".py",
   "mimetype": "text/x-python",
   "name": "python",
   "nbconvert_exporter": "python",
   "pygments_lexer": "ipython3",
   "version": "3.10.12"
  }
 },
 "nbformat": 4,
 "nbformat_minor": 2
}
